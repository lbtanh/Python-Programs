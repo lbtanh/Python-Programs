{
 "cells": [
  {
   "cell_type": "code",
   "execution_count": 25,
   "metadata": {},
   "outputs": [
    {
     "name": "stdout",
     "output_type": "stream",
     "text": [
      "Soumyadip Chowdhury Soumyadip.Chowdhury@python.com 900000\n",
      "Soumyadip Chowdhury Soumyadip.Chowdhury@python.com 100000\n",
      "Soumya Dip Soumyadip.Chowdhury@python.com 900000\n",
      "Soumyadip Chowdhury Soumyadip.Chowdhury@python.com 100000\n",
      "Deleting\n",
      "None None Soumyadip.Chowdhury@python.com 900000\n",
      "Soumyadip Chowdhury Soumyadip.Chowdhury@python.com 100000\n"
     ]
    }
   ],
   "source": [
    "class Employee:\n",
    "    \n",
    "    def __init__(self,f ,l ,p ):\n",
    "        self.first=f\n",
    "        self.last=l\n",
    "        self.email=f+\".\"+l+\"@python.com\"\n",
    "        self.pay=p\n",
    "        \n",
    "    @property   # Getter\n",
    "    def setterEx(self):\n",
    "        return \"{} {} {} {}\".format(self.first,self.last,self.email,self.pay)\n",
    "        \n",
    "    @setterEx.setter \n",
    "    def setterEx(self, name):\n",
    "        first, last=name.split(' ')\n",
    "        self.first=first\n",
    "        self.last=last\n",
    "        \n",
    "    @setterEx.deleter \n",
    "    def setterEx(self):\n",
    "        print(\"Deleting\")\n",
    "        self.first=None\n",
    "        self.last=None\n",
    "    \n",
    "emp_1=Employee(\"Soumyadip\",\"Chowdhury\",900000)\n",
    "emp_2=Employee(\"Soumyadip\",\"Chowdhury\",100000)\n",
    "\n",
    "print(emp_1.setterEx)\n",
    "print(emp_2.setterEx)\n",
    "\n",
    "emp_1.setterEx=\"Soumya Dip\"\n",
    "\n",
    "print(emp_1.setterEx)\n",
    "print(emp_2.setterEx)\n",
    "\n",
    "del emp_1.setterEx\n",
    "\n",
    "print(emp_1.setterEx)\n",
    "print(emp_2.setterEx)"
   ]
  }
 ],
 "metadata": {
  "kernelspec": {
   "display_name": "Python 3",
   "language": "python",
   "name": "python3"
  },
  "language_info": {
   "codemirror_mode": {
    "name": "ipython",
    "version": 3
   },
   "file_extension": ".py",
   "mimetype": "text/x-python",
   "name": "python",
   "nbconvert_exporter": "python",
   "pygments_lexer": "ipython3",
   "version": "3.7.4"
  }
 },
 "nbformat": 4,
 "nbformat_minor": 4
}
